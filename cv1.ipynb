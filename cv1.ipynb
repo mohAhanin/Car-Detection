{
 "cells": [
  {
   "cell_type": "code",
   "execution_count": 1,
   "id": "ea36e73f",
   "metadata": {},
   "outputs": [],
   "source": [
    "import cv2"
   ]
  },
  {
   "cell_type": "code",
   "execution_count": 2,
   "id": "da956d7c",
   "metadata": {},
   "outputs": [],
   "source": [
    "img = cv2.imread('img.jpg')"
   ]
  },
  {
   "cell_type": "code",
   "execution_count": 3,
   "id": "5443fd9f",
   "metadata": {},
   "outputs": [],
   "source": [
    "img.shape"
   ]
  },
  {
   "cell_type": "code",
   "execution_count": 4,
   "id": "1c5ed17b",
   "metadata": {},
   "outputs": [],
   "source": [
    "#cv2.imshow('image',img)"
   ]
  },
  {
   "cell_type": "code",
   "execution_count": 5,
   "id": "7c33c08a",
   "metadata": {},
   "outputs": [],
   "source": [
    "import matplotlib.pyplot as plt"
   ]
  },
  {
   "cell_type": "code",
   "execution_count": 6,
   "id": "4cc18de6",
   "metadata": {},
   "outputs": [],
   "source": [
    "plt.imshow(img)"
   ]
  },
  {
   "cell_type": "code",
   "execution_count": 8,
   "id": "7cd31b95",
   "metadata": {},
   "outputs": [],
   "source": [
    "import cv2\n",
    "\n",
    "# Load the pre-trained Haar cascade classifier for cars\n",
    "car_cascade = cv2.CascadeClassifier('haarcascade_car.xml')\n"
   ]
  },
  {
   "cell_type": "code",
   "execution_count": 9,
   "id": "11860344",
   "metadata": {},
   "outputs": [],
   "source": [
    "\n",
    "# Read the image\n",
    "img = cv2.imread('car2.jpg')\n",
    "\n",
    "# Convert the image to grayscale\n",
    "gray = cv2.cvtColor(img, cv2.COLOR_BGR2GRAY)\n",
    "\n",
    "# Detect cars in the image\n",
    "cars = car_cascade.detectMultiScale(gray, 1.1, 1)\n",
    "\n",
    "# Draw rectangles around detected cars\n",
    "for (x, y, w, h) in cars:\n",
    "    cv2.rectangle(img, (x, y), (x + w, y + h), (0, 0, 255), 2)\n",
    "\n",
    "# Display the result\n",
    "cv2.imshow('Car Detection', img)\n",
    "cv2.waitKey(0)\n",
    "cv2.destroyAllWindows()\n"
   ]
  },
  {
   "cell_type": "code",
   "execution_count": null,
   "id": "45c9fa17",
   "metadata": {},
   "outputs": [],
   "source": []
  }
 ],
 "metadata": {
  "kernelspec": {
   "display_name": "Python 3 (ipykernel)",
   "language": "python",
   "name": "python3"
  },
  "language_info": {
   "codemirror_mode": {
    "name": "ipython",
    "version": 3
   },
   "file_extension": ".py",
   "mimetype": "text/x-python",
   "name": "python",
   "nbconvert_exporter": "python",
   "pygments_lexer": "ipython3",
   "version": "3.11.3"
  }
 },
 "nbformat": 4,
 "nbformat_minor": 5
}
